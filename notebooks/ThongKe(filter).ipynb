{
 "cells": [
  {
   "cell_type": "code",
   "execution_count": 7,
   "id": "3032d502",
   "metadata": {},
   "outputs": [],
   "source": [
    "import os\n",
    "from collections import defaultdict\n",
    "import csv\n",
    "import re"
   ]
  },
  {
   "cell_type": "markdown",
   "id": "b6db0513",
   "metadata": {},
   "source": [
    "### Số lượng file sau khi lọc"
   ]
  },
  {
   "cell_type": "code",
   "execution_count": 8,
   "id": "a994d709",
   "metadata": {},
   "outputs": [
    {
     "name": "stdout",
     "output_type": "stream",
     "text": [
      "Thư mục 'data-filter' có 5829 file.\n"
     ]
    }
   ],
   "source": [
    "folder_path = \"data-filter\"  \n",
    "\n",
    "file_count = sum(\n",
    "    1 for entry in os.listdir(folder_path)\n",
    "    if os.path.isfile(os.path.join(folder_path, entry))\n",
    ")\n",
    "\n",
    "print(f\"Thư mục '{folder_path}' có {file_count} file.\")"
   ]
  },
  {
   "cell_type": "code",
   "execution_count": 9,
   "id": "8746f3f5",
   "metadata": {},
   "outputs": [
    {
     "name": "stdout",
     "output_type": "stream",
     "text": [
      "Thư mục 'data-multi' có 72 file.\n"
     ]
    }
   ],
   "source": [
    "folder_path = \"data-multi\"  \n",
    "\n",
    "file_count = sum(\n",
    "    1 for entry in os.listdir(folder_path)\n",
    "    if os.path.isfile(os.path.join(folder_path, entry))\n",
    ")\n",
    "\n",
    "print(f\"Thư mục '{folder_path}' có {file_count} file.\")"
   ]
  },
  {
   "cell_type": "code",
   "execution_count": 10,
   "id": "98953cc4",
   "metadata": {},
   "outputs": [],
   "source": [
    "def count_labels_and_label_types(csv_file_path, label_map_file):\n",
    "    # Read the label map from the label_map_file\n",
    "    label_map = {}\n",
    "    with open(label_map_file, \"r\", encoding=\"utf-8\") as f:\n",
    "        for line in f:\n",
    "            if \":\" in line:\n",
    "                key, val = line.strip().split(\":\", 1)\n",
    "                match = re.search(r'\\((.*?)\\)', val)\n",
    "                if match:\n",
    "                    label_description = match.group(1).strip()\n",
    "                    label_map[key.strip()] = label_description\n",
    "    # print(label_map)    \n",
    "    \n",
    "    # Initialize nested defaultdicts for counting\n",
    "    # Counts per label_type -> label -> count\n",
    "    count_per_label_type = defaultdict(lambda: defaultdict(int))\n",
    "    total_per_label_type = defaultdict(int)  # To track total count per label_type\n",
    "\n",
    "    # Read the CSV file and process each row\n",
    "    with open(csv_file_path, newline='', encoding='utf-8') as csvfile:\n",
    "        reader = csv.DictReader(csvfile)\n",
    "\n",
    "        # Iterate through each row\n",
    "        for row in reader:\n",
    "            label = row.get(\"label\", \"\").strip()\n",
    "            label_type = row.get(\"label_type\", \"\").strip()\n",
    "\n",
    "            # Map the numeric label to its description\n",
    "            label_description = label_map.get(label, f\"<unk:{label}>\")\n",
    "\n",
    "            # Count occurrences of the label description for each label_type\n",
    "            if label_description and label_type:\n",
    "                count_per_label_type[label_type][label_description] += 1\n",
    "                total_per_label_type[label_type] += 1  # Increment total count for the label_type\n",
    "\n",
    "    # Print results grouped by label_type\n",
    "    print(\"Tổng hợp:\")\n",
    "    for label_type, labels in count_per_label_type.items():\n",
    "        print(f\"\\nLabel Type: {label_type}\")\n",
    "        for label, count in labels.items():\n",
    "            print(f\"  Label: {label}, số lượng: {count}\")\n",
    "        print(f\"  Tổng: {label_type}: {total_per_label_type[label_type]}\")"
   ]
  },
  {
   "cell_type": "code",
   "execution_count": 11,
   "id": "d5f26205",
   "metadata": {},
   "outputs": [
    {
     "name": "stdout",
     "output_type": "stream",
     "text": [
      "Tổng hợp:\n",
      "\n",
      "Label Type: ear\n",
      "  Label: nấm ống tai ngoài, số lượng: 504\n",
      "  Label: viêm ống tai ngoài cấp, số lượng: 429\n",
      "  Label: viêm tai giữa cấp, số lượng: 506\n",
      "  Label: viêm tai giữa mạn, số lượng: 488\n",
      "  Label: viêm tai giữa u dịch, số lượng: 532\n",
      "  Tổng: ear: 2459\n",
      "\n",
      "Label Type: nose\n",
      "  Label: polyp mũi, số lượng: 485\n",
      "  Label: vẹo vách ngăn, số lượng: 507\n",
      "  Label: viêm mũi dị ứng, số lượng: 514\n",
      "  Label: viêm mũi xoang cấp, số lượng: 487\n",
      "  Tổng: nose: 1993\n",
      "\n",
      "Label Type: throat\n",
      "  Label: u thanh quản, số lượng: 366\n",
      "  Label: u vòm caVA, số lượng: 499\n",
      "  Label: viên thanh quản, số lượng: 512\n",
      "  Tổng: throat: 1377\n"
     ]
    }
   ],
   "source": [
    "count_labels_and_label_types(\"data-filter.csv\", \"label_map_v.txt\")"
   ]
  },
  {
   "cell_type": "code",
   "execution_count": 12,
   "id": "ec0946a1",
   "metadata": {},
   "outputs": [
    {
     "name": "stdout",
     "output_type": "stream",
     "text": [
      "Tổng hợp:\n",
      "\n",
      "Label Type: ear\n",
      "  Label: <unk:>, số lượng: 41\n",
      "  Tổng: ear: 41\n",
      "\n",
      "Label Type: nose\n",
      "  Label: <unk:>, số lượng: 25\n",
      "  Tổng: nose: 25\n",
      "\n",
      "Label Type: throat\n",
      "  Label: <unk:>, số lượng: 6\n",
      "  Tổng: throat: 6\n"
     ]
    }
   ],
   "source": [
    "count_labels_and_label_types(\"data-multi.csv\", \"label_map_v.txt\")"
   ]
  }
 ],
 "metadata": {
  "kernelspec": {
   "display_name": "Python 3",
   "language": "python",
   "name": "python3"
  },
  "language_info": {
   "codemirror_mode": {
    "name": "ipython",
    "version": 3
   },
   "file_extension": ".py",
   "mimetype": "text/x-python",
   "name": "python",
   "nbconvert_exporter": "python",
   "pygments_lexer": "ipython3",
   "version": "3.10.4"
  }
 },
 "nbformat": 4,
 "nbformat_minor": 5
}
